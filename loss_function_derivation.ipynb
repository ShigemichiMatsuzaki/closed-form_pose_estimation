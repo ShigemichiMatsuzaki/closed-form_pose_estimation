{
 "cells": [
  {
   "cell_type": "code",
   "execution_count": 7,
   "id": "5c90a987-2027-4f11-a968-966bce9a8dd7",
   "metadata": {},
   "outputs": [],
   "source": [
    "import sympy as sp\n",
    "\n",
    "w, x, y, z = sp.symbols('w, x, y, z')\n",
    "pxr1, pyr1, pzr1 = sp.symbols('p_xr1, p_yr1, p_zr1')\n",
    "pxr2, pyr2, pzr2 = sp.symbols('p_xr2, p_yr2, p_zr2')\n",
    "pxr3, pyr3, pzr3 = sp.symbols('p_xr3, p_yr3, p_zr3')\n",
    "pxk1, pyk1, pzk1 = sp.symbols('p_xk1, p_yk1, p_zk1')\n",
    "pxk2, pyk2, pzk2 = sp.symbols('p_xk2, p_yk2, p_zk2')\n",
    "pxk3, pyk3, pzk3 = sp.symbols('p_xk3, p_yk3, p_zk3')\n",
    "\n",
    "mr1 = sp.Matrix([[pxr1], [pyr1], [pzr1]])\n",
    "mr2 = sp.Matrix([[pxr2], [pyr2], [pzr2]])\n",
    "mr3 = sp.Matrix([[pxr3], [pyr3], [pzr3]])\n",
    "mk1 =  sp.Matrix([[pxk1], [pyk1], [pzk1]])\n",
    "mk2 =  sp.Matrix([[pxk2], [pyk2], [pzk2]])\n",
    "mk3 =  sp.Matrix([[pxk3], [pyk3], [pzk3]])\n",
    "r11, r12, r13 = sp.symbols('r_11, r_12, r_13')\n",
    "r21, r22, r23 = sp.symbols('r_21, r_22, r_23')\n",
    "r31, r32, r33 = sp.symbols('r_31, r_32, r_33')\n",
    "r = sp.Matrix([r11, r12, r13, r21, r22, r23, r31, r32, r33])\n",
    "R = r.reshape(3, 3)\n",
    "Mk1 = sp.Matrix([\n",
    "    [pxr1, pyr1, pzr1, 0, 0, 0, 0, 0, 0],\n",
    "    [0, 0, 0, pxr1, pyr1, pzr1, 0, 0, 0],\n",
    "    [0, 0, 0, 0, 0, 0, pxr1, pyr1, pzr1],\n",
    "])\n",
    "Mk2 = sp.Matrix([\n",
    "    [pxr2, pyr2, pzr2, 0, 0, 0, 0, 0, 0],\n",
    "    [0, 0, 0, pxr2, pyr2, pzr2, 0, 0, 0],\n",
    "    [0, 0, 0, 0, 0, 0, pxr2, pyr2, pzr2],\n",
    "])\n",
    "Mk3 = sp.Matrix([\n",
    "    [pxr3, pyr3, pzr3, 0, 0, 0, 0, 0, 0],\n",
    "    [0, 0, 0, pxr3, pyr3, pzr3, 0, 0, 0],\n",
    "    [0, 0, 0, 0, 0, 0, pxr3, pyr3, pzr3],\n",
    "])\n",
    "\n",
    "wx, wy, wz = sp.symbols('w_x, w_y, w_z')\n",
    "W = sp.Matrix([\n",
    "    [wx, 0, 0],\n",
    "    [0, wy, 0],\n",
    "    [0, 0, wz],\n",
    "])"
   ]
  },
  {
   "cell_type": "code",
   "execution_count": 8,
   "id": "91a798ce-20e5-4d44-b92f-468bfff8720c",
   "metadata": {},
   "outputs": [
    {
     "data": {
      "text/latex": [
       "$\\displaystyle \\left[\\begin{matrix}\\frac{p_{xk1} w_{x} + p_{xk2} w_{x} + p_{xk3} w_{x}}{3 w_{x}}\\\\\\frac{p_{yk1} w_{y} + p_{yk2} w_{y} + p_{yk3} w_{y}}{3 w_{y}}\\\\\\frac{p_{zk1} w_{z} + p_{zk2} w_{z} + p_{zk3} w_{z}}{3 w_{z}}\\end{matrix}\\right]$"
      ],
      "text/plain": [
       "Matrix([\n",
       "[(p_xk1*w_x + p_xk2*w_x + p_xk3*w_x)/(3*w_x)],\n",
       "[(p_yk1*w_y + p_yk2*w_y + p_yk3*w_y)/(3*w_y)],\n",
       "[(p_zk1*w_z + p_zk2*w_z + p_zk3*w_z)/(3*w_z)]])"
      ]
     },
     "execution_count": 8,
     "metadata": {},
     "output_type": "execute_result"
    }
   ],
   "source": [
    "A_t = -(W + W + W).inv() @ (W.T @ Mk1 + W.T @ Mk2 + W.T @ Mk3)\n",
    "b_t = (W + W + W).inv() @ (W.T @ mk1 + W.T @ mk2 + W.T @ mk3)\n",
    "b_t"
   ]
  },
  {
   "cell_type": "code",
   "execution_count": 9,
   "id": "2f36808d-d856-4d29-8df0-ef8207a5384f",
   "metadata": {},
   "outputs": [],
   "source": [
    "bM_k1 = Mk1 + A_t\n",
    "bm_k1 = mk1 - b_t\n",
    "bM_k2 = Mk2 + A_t\n",
    "bm_k2 = mk2 - b_t\n",
    "bM_k3 = Mk3 + A_t\n",
    "bm_k3 = mk3 - b_t"
   ]
  },
  {
   "cell_type": "code",
   "execution_count": 10,
   "id": "c57a4779-fe39-4b1c-be61-b7c0639cbff0",
   "metadata": {},
   "outputs": [
    {
     "data": {
      "text/latex": [
       "$\\displaystyle \\left[\\begin{matrix}w_{x} \\left(p_{xk1} - \\frac{p_{xk1} w_{x} + p_{xk2} w_{x} + p_{xk3} w_{x}}{3 w_{x}}\\right) \\left(p_{xr1} - \\frac{p_{xr1} w_{x} + p_{xr2} w_{x} + p_{xr3} w_{x}}{3 w_{x}}\\right) + w_{x} \\left(p_{xk2} - \\frac{p_{xk1} w_{x} + p_{xk2} w_{x} + p_{xk3} w_{x}}{3 w_{x}}\\right) \\left(p_{xr2} - \\frac{p_{xr1} w_{x} + p_{xr2} w_{x} + p_{xr3} w_{x}}{3 w_{x}}\\right) + w_{x} \\left(p_{xk3} - \\frac{p_{xk1} w_{x} + p_{xk2} w_{x} + p_{xk3} w_{x}}{3 w_{x}}\\right) \\left(p_{xr3} - \\frac{p_{xr1} w_{x} + p_{xr2} w_{x} + p_{xr3} w_{x}}{3 w_{x}}\\right)\\\\w_{x} \\left(p_{xk1} - \\frac{p_{xk1} w_{x} + p_{xk2} w_{x} + p_{xk3} w_{x}}{3 w_{x}}\\right) \\left(p_{yr1} - \\frac{p_{yr1} w_{x} + p_{yr2} w_{x} + p_{yr3} w_{x}}{3 w_{x}}\\right) + w_{x} \\left(p_{xk2} - \\frac{p_{xk1} w_{x} + p_{xk2} w_{x} + p_{xk3} w_{x}}{3 w_{x}}\\right) \\left(p_{yr2} - \\frac{p_{yr1} w_{x} + p_{yr2} w_{x} + p_{yr3} w_{x}}{3 w_{x}}\\right) + w_{x} \\left(p_{xk3} - \\frac{p_{xk1} w_{x} + p_{xk2} w_{x} + p_{xk3} w_{x}}{3 w_{x}}\\right) \\left(p_{yr3} - \\frac{p_{yr1} w_{x} + p_{yr2} w_{x} + p_{yr3} w_{x}}{3 w_{x}}\\right)\\\\w_{x} \\left(p_{xk1} - \\frac{p_{xk1} w_{x} + p_{xk2} w_{x} + p_{xk3} w_{x}}{3 w_{x}}\\right) \\left(p_{zr1} - \\frac{p_{zr1} w_{x} + p_{zr2} w_{x} + p_{zr3} w_{x}}{3 w_{x}}\\right) + w_{x} \\left(p_{xk2} - \\frac{p_{xk1} w_{x} + p_{xk2} w_{x} + p_{xk3} w_{x}}{3 w_{x}}\\right) \\left(p_{zr2} - \\frac{p_{zr1} w_{x} + p_{zr2} w_{x} + p_{zr3} w_{x}}{3 w_{x}}\\right) + w_{x} \\left(p_{xk3} - \\frac{p_{xk1} w_{x} + p_{xk2} w_{x} + p_{xk3} w_{x}}{3 w_{x}}\\right) \\left(p_{zr3} - \\frac{p_{zr1} w_{x} + p_{zr2} w_{x} + p_{zr3} w_{x}}{3 w_{x}}\\right)\\\\w_{y} \\left(p_{xr1} - \\frac{p_{xr1} w_{y} + p_{xr2} w_{y} + p_{xr3} w_{y}}{3 w_{y}}\\right) \\left(p_{yk1} - \\frac{p_{yk1} w_{y} + p_{yk2} w_{y} + p_{yk3} w_{y}}{3 w_{y}}\\right) + w_{y} \\left(p_{xr2} - \\frac{p_{xr1} w_{y} + p_{xr2} w_{y} + p_{xr3} w_{y}}{3 w_{y}}\\right) \\left(p_{yk2} - \\frac{p_{yk1} w_{y} + p_{yk2} w_{y} + p_{yk3} w_{y}}{3 w_{y}}\\right) + w_{y} \\left(p_{xr3} - \\frac{p_{xr1} w_{y} + p_{xr2} w_{y} + p_{xr3} w_{y}}{3 w_{y}}\\right) \\left(p_{yk3} - \\frac{p_{yk1} w_{y} + p_{yk2} w_{y} + p_{yk3} w_{y}}{3 w_{y}}\\right)\\\\w_{y} \\left(p_{yk1} - \\frac{p_{yk1} w_{y} + p_{yk2} w_{y} + p_{yk3} w_{y}}{3 w_{y}}\\right) \\left(p_{yr1} - \\frac{p_{yr1} w_{y} + p_{yr2} w_{y} + p_{yr3} w_{y}}{3 w_{y}}\\right) + w_{y} \\left(p_{yk2} - \\frac{p_{yk1} w_{y} + p_{yk2} w_{y} + p_{yk3} w_{y}}{3 w_{y}}\\right) \\left(p_{yr2} - \\frac{p_{yr1} w_{y} + p_{yr2} w_{y} + p_{yr3} w_{y}}{3 w_{y}}\\right) + w_{y} \\left(p_{yk3} - \\frac{p_{yk1} w_{y} + p_{yk2} w_{y} + p_{yk3} w_{y}}{3 w_{y}}\\right) \\left(p_{yr3} - \\frac{p_{yr1} w_{y} + p_{yr2} w_{y} + p_{yr3} w_{y}}{3 w_{y}}\\right)\\\\w_{y} \\left(p_{yk1} - \\frac{p_{yk1} w_{y} + p_{yk2} w_{y} + p_{yk3} w_{y}}{3 w_{y}}\\right) \\left(p_{zr1} - \\frac{p_{zr1} w_{y} + p_{zr2} w_{y} + p_{zr3} w_{y}}{3 w_{y}}\\right) + w_{y} \\left(p_{yk2} - \\frac{p_{yk1} w_{y} + p_{yk2} w_{y} + p_{yk3} w_{y}}{3 w_{y}}\\right) \\left(p_{zr2} - \\frac{p_{zr1} w_{y} + p_{zr2} w_{y} + p_{zr3} w_{y}}{3 w_{y}}\\right) + w_{y} \\left(p_{yk3} - \\frac{p_{yk1} w_{y} + p_{yk2} w_{y} + p_{yk3} w_{y}}{3 w_{y}}\\right) \\left(p_{zr3} - \\frac{p_{zr1} w_{y} + p_{zr2} w_{y} + p_{zr3} w_{y}}{3 w_{y}}\\right)\\\\w_{z} \\left(p_{xr1} - \\frac{p_{xr1} w_{z} + p_{xr2} w_{z} + p_{xr3} w_{z}}{3 w_{z}}\\right) \\left(p_{zk1} - \\frac{p_{zk1} w_{z} + p_{zk2} w_{z} + p_{zk3} w_{z}}{3 w_{z}}\\right) + w_{z} \\left(p_{xr2} - \\frac{p_{xr1} w_{z} + p_{xr2} w_{z} + p_{xr3} w_{z}}{3 w_{z}}\\right) \\left(p_{zk2} - \\frac{p_{zk1} w_{z} + p_{zk2} w_{z} + p_{zk3} w_{z}}{3 w_{z}}\\right) + w_{z} \\left(p_{xr3} - \\frac{p_{xr1} w_{z} + p_{xr2} w_{z} + p_{xr3} w_{z}}{3 w_{z}}\\right) \\left(p_{zk3} - \\frac{p_{zk1} w_{z} + p_{zk2} w_{z} + p_{zk3} w_{z}}{3 w_{z}}\\right)\\\\w_{z} \\left(p_{yr1} - \\frac{p_{yr1} w_{z} + p_{yr2} w_{z} + p_{yr3} w_{z}}{3 w_{z}}\\right) \\left(p_{zk1} - \\frac{p_{zk1} w_{z} + p_{zk2} w_{z} + p_{zk3} w_{z}}{3 w_{z}}\\right) + w_{z} \\left(p_{yr2} - \\frac{p_{yr1} w_{z} + p_{yr2} w_{z} + p_{yr3} w_{z}}{3 w_{z}}\\right) \\left(p_{zk2} - \\frac{p_{zk1} w_{z} + p_{zk2} w_{z} + p_{zk3} w_{z}}{3 w_{z}}\\right) + w_{z} \\left(p_{yr3} - \\frac{p_{yr1} w_{z} + p_{yr2} w_{z} + p_{yr3} w_{z}}{3 w_{z}}\\right) \\left(p_{zk3} - \\frac{p_{zk1} w_{z} + p_{zk2} w_{z} + p_{zk3} w_{z}}{3 w_{z}}\\right)\\\\w_{z} \\left(p_{zk1} - \\frac{p_{zk1} w_{z} + p_{zk2} w_{z} + p_{zk3} w_{z}}{3 w_{z}}\\right) \\left(p_{zr1} - \\frac{p_{zr1} w_{z} + p_{zr2} w_{z} + p_{zr3} w_{z}}{3 w_{z}}\\right) + w_{z} \\left(p_{zk2} - \\frac{p_{zk1} w_{z} + p_{zk2} w_{z} + p_{zk3} w_{z}}{3 w_{z}}\\right) \\left(p_{zr2} - \\frac{p_{zr1} w_{z} + p_{zr2} w_{z} + p_{zr3} w_{z}}{3 w_{z}}\\right) + w_{z} \\left(p_{zk3} - \\frac{p_{zk1} w_{z} + p_{zk2} w_{z} + p_{zk3} w_{z}}{3 w_{z}}\\right) \\left(p_{zr3} - \\frac{p_{zr1} w_{z} + p_{zr2} w_{z} + p_{zr3} w_{z}}{3 w_{z}}\\right)\\end{matrix}\\right]$"
      ],
      "text/plain": [
       "Matrix([\n",
       "[w_x*(p_xk1 - (p_xk1*w_x + p_xk2*w_x + p_xk3*w_x)/(3*w_x))*(p_xr1 - (p_xr1*w_x + p_xr2*w_x + p_xr3*w_x)/(3*w_x)) + w_x*(p_xk2 - (p_xk1*w_x + p_xk2*w_x + p_xk3*w_x)/(3*w_x))*(p_xr2 - (p_xr1*w_x + p_xr2*w_x + p_xr3*w_x)/(3*w_x)) + w_x*(p_xk3 - (p_xk1*w_x + p_xk2*w_x + p_xk3*w_x)/(3*w_x))*(p_xr3 - (p_xr1*w_x + p_xr2*w_x + p_xr3*w_x)/(3*w_x))],\n",
       "[w_x*(p_xk1 - (p_xk1*w_x + p_xk2*w_x + p_xk3*w_x)/(3*w_x))*(p_yr1 - (p_yr1*w_x + p_yr2*w_x + p_yr3*w_x)/(3*w_x)) + w_x*(p_xk2 - (p_xk1*w_x + p_xk2*w_x + p_xk3*w_x)/(3*w_x))*(p_yr2 - (p_yr1*w_x + p_yr2*w_x + p_yr3*w_x)/(3*w_x)) + w_x*(p_xk3 - (p_xk1*w_x + p_xk2*w_x + p_xk3*w_x)/(3*w_x))*(p_yr3 - (p_yr1*w_x + p_yr2*w_x + p_yr3*w_x)/(3*w_x))],\n",
       "[w_x*(p_xk1 - (p_xk1*w_x + p_xk2*w_x + p_xk3*w_x)/(3*w_x))*(p_zr1 - (p_zr1*w_x + p_zr2*w_x + p_zr3*w_x)/(3*w_x)) + w_x*(p_xk2 - (p_xk1*w_x + p_xk2*w_x + p_xk3*w_x)/(3*w_x))*(p_zr2 - (p_zr1*w_x + p_zr2*w_x + p_zr3*w_x)/(3*w_x)) + w_x*(p_xk3 - (p_xk1*w_x + p_xk2*w_x + p_xk3*w_x)/(3*w_x))*(p_zr3 - (p_zr1*w_x + p_zr2*w_x + p_zr3*w_x)/(3*w_x))],\n",
       "[w_y*(p_xr1 - (p_xr1*w_y + p_xr2*w_y + p_xr3*w_y)/(3*w_y))*(p_yk1 - (p_yk1*w_y + p_yk2*w_y + p_yk3*w_y)/(3*w_y)) + w_y*(p_xr2 - (p_xr1*w_y + p_xr2*w_y + p_xr3*w_y)/(3*w_y))*(p_yk2 - (p_yk1*w_y + p_yk2*w_y + p_yk3*w_y)/(3*w_y)) + w_y*(p_xr3 - (p_xr1*w_y + p_xr2*w_y + p_xr3*w_y)/(3*w_y))*(p_yk3 - (p_yk1*w_y + p_yk2*w_y + p_yk3*w_y)/(3*w_y))],\n",
       "[w_y*(p_yk1 - (p_yk1*w_y + p_yk2*w_y + p_yk3*w_y)/(3*w_y))*(p_yr1 - (p_yr1*w_y + p_yr2*w_y + p_yr3*w_y)/(3*w_y)) + w_y*(p_yk2 - (p_yk1*w_y + p_yk2*w_y + p_yk3*w_y)/(3*w_y))*(p_yr2 - (p_yr1*w_y + p_yr2*w_y + p_yr3*w_y)/(3*w_y)) + w_y*(p_yk3 - (p_yk1*w_y + p_yk2*w_y + p_yk3*w_y)/(3*w_y))*(p_yr3 - (p_yr1*w_y + p_yr2*w_y + p_yr3*w_y)/(3*w_y))],\n",
       "[w_y*(p_yk1 - (p_yk1*w_y + p_yk2*w_y + p_yk3*w_y)/(3*w_y))*(p_zr1 - (p_zr1*w_y + p_zr2*w_y + p_zr3*w_y)/(3*w_y)) + w_y*(p_yk2 - (p_yk1*w_y + p_yk2*w_y + p_yk3*w_y)/(3*w_y))*(p_zr2 - (p_zr1*w_y + p_zr2*w_y + p_zr3*w_y)/(3*w_y)) + w_y*(p_yk3 - (p_yk1*w_y + p_yk2*w_y + p_yk3*w_y)/(3*w_y))*(p_zr3 - (p_zr1*w_y + p_zr2*w_y + p_zr3*w_y)/(3*w_y))],\n",
       "[w_z*(p_xr1 - (p_xr1*w_z + p_xr2*w_z + p_xr3*w_z)/(3*w_z))*(p_zk1 - (p_zk1*w_z + p_zk2*w_z + p_zk3*w_z)/(3*w_z)) + w_z*(p_xr2 - (p_xr1*w_z + p_xr2*w_z + p_xr3*w_z)/(3*w_z))*(p_zk2 - (p_zk1*w_z + p_zk2*w_z + p_zk3*w_z)/(3*w_z)) + w_z*(p_xr3 - (p_xr1*w_z + p_xr2*w_z + p_xr3*w_z)/(3*w_z))*(p_zk3 - (p_zk1*w_z + p_zk2*w_z + p_zk3*w_z)/(3*w_z))],\n",
       "[w_z*(p_yr1 - (p_yr1*w_z + p_yr2*w_z + p_yr3*w_z)/(3*w_z))*(p_zk1 - (p_zk1*w_z + p_zk2*w_z + p_zk3*w_z)/(3*w_z)) + w_z*(p_yr2 - (p_yr1*w_z + p_yr2*w_z + p_yr3*w_z)/(3*w_z))*(p_zk2 - (p_zk1*w_z + p_zk2*w_z + p_zk3*w_z)/(3*w_z)) + w_z*(p_yr3 - (p_yr1*w_z + p_yr2*w_z + p_yr3*w_z)/(3*w_z))*(p_zk3 - (p_zk1*w_z + p_zk2*w_z + p_zk3*w_z)/(3*w_z))],\n",
       "[w_z*(p_zk1 - (p_zk1*w_z + p_zk2*w_z + p_zk3*w_z)/(3*w_z))*(p_zr1 - (p_zr1*w_z + p_zr2*w_z + p_zr3*w_z)/(3*w_z)) + w_z*(p_zk2 - (p_zk1*w_z + p_zk2*w_z + p_zk3*w_z)/(3*w_z))*(p_zr2 - (p_zr1*w_z + p_zr2*w_z + p_zr3*w_z)/(3*w_z)) + w_z*(p_zk3 - (p_zk1*w_z + p_zk2*w_z + p_zk3*w_z)/(3*w_z))*(p_zr3 - (p_zr1*w_z + p_zr2*w_z + p_zr3*w_z)/(3*w_z))]])"
      ]
     },
     "execution_count": 10,
     "metadata": {},
     "output_type": "execute_result"
    }
   ],
   "source": [
    "A_r = bM_k1.T @ W @ bM_k1 + bM_k2.T @ W @ bM_k2 + bM_k3.T @ W @ bM_k3 \n",
    "b_r = bM_k1.T @ W @ bm_k1 + bM_k2.T @ W @ bm_k2 + bM_k3.T @ W @ bm_k3 \n",
    "b_r"
   ]
  },
  {
   "cell_type": "code",
   "execution_count": 17,
   "id": "5f84be27-146d-411a-8a97-548725d8130d",
   "metadata": {},
   "outputs": [
    {
     "data": {
      "text/latex": [
       "$\\displaystyle \\left[\\begin{matrix}2 b_{1} w^{2} + 2 b_{1} x^{2} - b_{1} - 2 b_{2} w z + 2 b_{2} x y + 2 b_{3} w y + 2 b_{3} x z + 2 b_{4} w z + 2 b_{4} x y + 2 b_{5} w^{2} + 2 b_{5} y^{2} - b_{5} - 2 b_{6} w x + 2 b_{6} y z - 2 b_{7} w y + 2 b_{7} x z + 2 b_{8} w x + 2 b_{8} y z + 2 b_{9} w^{2} + 2 b_{9} z^{2} - b_{9}\\end{matrix}\\right]$"
      ],
      "text/plain": [
       "Matrix([[2*b1*w**2 + 2*b1*x**2 - b1 - 2*b2*w*z + 2*b2*x*y + 2*b3*w*y + 2*b3*x*z + 2*b4*w*z + 2*b4*x*y + 2*b5*w**2 + 2*b5*y**2 - b5 - 2*b6*w*x + 2*b6*y*z - 2*b7*w*y + 2*b7*x*z + 2*b8*w*x + 2*b8*y*z + 2*b9*w**2 + 2*b9*z**2 - b9]])"
      ]
     },
     "execution_count": 17,
     "metadata": {},
     "output_type": "execute_result"
    }
   ],
   "source": [
    "b1, b2, b3, b4, b5, b6, b7, b8, b9 = sp.symbols('b1:10')\n",
    "b_r = sp.Matrix([b1, b2, b3, b4, b5, b6, b7, b8, b9])\n",
    "\n",
    "b_r_q = (b_r.T @ r).subs([\n",
    "    (r11, 2 * (w**2 + x**2) - 1),\n",
    "    (r12, 2 * (x*y - w*z)),\n",
    "    (r13, 2 * (x*z + w*y)),\n",
    "    (r21, 2 * (x*y + w*z)),\n",
    "    (r22, 2 * (w**2 + y**2) - 1),\n",
    "    (r23, 2 * (y*z - w*x)),\n",
    "    (r31, 2 * (x*z - w*y)),\n",
    "    (r32, 2 * (y*z + w*x)),\n",
    "    (r33, 2 * (w**2 + z**2) - 1),\n",
    "])\n",
    "\n",
    "f = b_r_q\n",
    "f = sp.expand(f)\n",
    "f\n"
   ]
  },
  {
   "cell_type": "code",
   "execution_count": 27,
   "id": "3e04b8a8",
   "metadata": {},
   "outputs": [],
   "source": [
    "B = sp.Matrix([\n",
    "    [2 * (b1+b5+b9), b8-b6, b3-b7, b4-b2],\n",
    "    [b8-b6, 2 * b1, b2+b4, b3+b7],\n",
    "    [b3-b7, b2+b4, 2 * b5, b6+b8],\n",
    "    [b4-b2, b3+b7, b6+b8, 2 * b9],\n",
    "])\n",
    "q = sp.Matrix([w, x, y, z])\n",
    "fd = sp.expand(q.T @ B @ q)"
   ]
  }
 ],
 "metadata": {
  "kernelspec": {
   "display_name": "Python 3 (ipykernel)",
   "language": "python",
   "name": "python3"
  },
  "language_info": {
   "codemirror_mode": {
    "name": "ipython",
    "version": 3
   },
   "file_extension": ".py",
   "mimetype": "text/x-python",
   "name": "python",
   "nbconvert_exporter": "python",
   "pygments_lexer": "ipython3",
   "version": "3.8.10"
  }
 },
 "nbformat": 4,
 "nbformat_minor": 5
}
