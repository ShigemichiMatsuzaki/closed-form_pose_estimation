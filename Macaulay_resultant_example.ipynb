{
 "cells": [
  {
   "cell_type": "markdown",
   "id": "19503191-930b-4fc9-986b-2ad34fdca9c2",
   "metadata": {},
   "source": [
    "We take the examples below from [this preprint](https://isc.tamu.edu/resources/preprints/1996/1996-02.pdf)"
   ]
  },
  {
   "cell_type": "code",
   "execution_count": 6,
   "id": "b14bbe4f-36dd-4f72-b9ae-0d665ba92e91",
   "metadata": {},
   "outputs": [
    {
     "name": "stdout",
     "output_type": "stream",
     "text": [
      "w x y z\n"
     ]
    }
   ],
   "source": [
    "\n",
    "import numpy as np\n",
    "from sympy import symbols\n",
    "from sympy.polys.multivariate_resultants import MacaulayResultant\n",
    "\n",
    "w, x, y, z = symbols('w, x, y, z')"
   ]
  },
  {
   "cell_type": "code",
   "execution_count": 36,
   "id": "5b0e5a0b-e360-45d9-ade1-934e468ce4d0",
   "metadata": {},
   "outputs": [],
   "source": [
    "a_1, a_2 = symbols('a_1, a_2')\n",
    "b_1, b_2 = symbols('b_1, b_2')\n",
    "c_1, c_2 = symbols('c_1, c_2')\n",
    "u_1, u_2, u_3 = symbols('u_1, u_2, u_3')"
   ]
  },
  {
   "cell_type": "code",
   "execution_count": 37,
   "id": "f28a3a62-92ac-4edd-bf9f-55a0b3c878c5",
   "metadata": {},
   "outputs": [],
   "source": [
    "f1 = a_1 * x + b_1 * y + c_1*z\n",
    "f2 = a_2  * x**2 + b_2 * y**2 + c_2*z**2\n",
    "f3 = u_1 * x + u_2 * y + u_3 * z"
   ]
  },
  {
   "cell_type": "code",
   "execution_count": 40,
   "id": "8547160f-593c-4b0e-b491-62f1e910cb9b",
   "metadata": {},
   "outputs": [
    {
     "data": {
      "text/latex": [
       "$\\displaystyle a_{1} x + b_{1} y + c_{1} z$"
      ],
      "text/plain": [
       "a_1*x + b_1*y + c_1*z"
      ]
     },
     "execution_count": 40,
     "metadata": {},
     "output_type": "execute_result"
    }
   ],
   "source": [
    "f1"
   ]
  },
  {
   "cell_type": "code",
   "execution_count": 39,
   "id": "62476131-0559-43e3-8a14-e816e9e17036",
   "metadata": {},
   "outputs": [
    {
     "data": {
      "text/latex": [
       "$\\displaystyle a_{2} x^{2} + b_{2} y^{2} + c_{2} z^{2}$"
      ],
      "text/plain": [
       "a_2*x**2 + b_2*y**2 + c_2*z**2"
      ]
     },
     "execution_count": 39,
     "metadata": {},
     "output_type": "execute_result"
    }
   ],
   "source": [
    "f2"
   ]
  },
  {
   "cell_type": "code",
   "execution_count": 41,
   "id": "c71e81ed-0a89-408f-8a4e-57bf974dc289",
   "metadata": {},
   "outputs": [
    {
     "data": {
      "text/latex": [
       "$\\displaystyle u_{1} x + u_{2} y + u_{3} z$"
      ],
      "text/plain": [
       "u_1*x + u_2*y + u_3*z"
      ]
     },
     "execution_count": 41,
     "metadata": {},
     "output_type": "execute_result"
    }
   ],
   "source": [
    "f3"
   ]
  },
  {
   "cell_type": "code",
   "execution_count": 43,
   "id": "85f2d22b-5e52-4715-8d72-e9e8015e29aa",
   "metadata": {},
   "outputs": [],
   "source": [
    "mac = MacaulayResultant(polynomials=[f1, f2, f3], variables=[x, y, z])"
   ]
  },
  {
   "cell_type": "code",
   "execution_count": 44,
   "id": "d59f93ea-978a-48a9-b6bf-c27bbe663357",
   "metadata": {},
   "outputs": [
    {
     "data": {
      "text/latex": [
       "$\\displaystyle \\left[\\begin{matrix}a_{1} & b_{1} & c_{1} & 0 & 0 & 0\\\\0 & a_{1} & 0 & b_{1} & c_{1} & 0\\\\0 & 0 & a_{1} & 0 & b_{1} & c_{1}\\\\a_{2} & 0 & 0 & b_{2} & 0 & c_{2}\\\\0 & u_{1} & 0 & u_{2} & u_{3} & 0\\\\0 & 0 & u_{1} & 0 & u_{2} & u_{3}\\end{matrix}\\right]$"
      ],
      "text/plain": [
       "Matrix([\n",
       "[a_1, b_1, c_1,   0,   0,   0],\n",
       "[  0, a_1,   0, b_1, c_1,   0],\n",
       "[  0,   0, a_1,   0, b_1, c_1],\n",
       "[a_2,   0,   0, b_2,   0, c_2],\n",
       "[  0, u_1,   0, u_2, u_3,   0],\n",
       "[  0,   0, u_1,   0, u_2, u_3]])"
      ]
     },
     "execution_count": 44,
     "metadata": {},
     "output_type": "execute_result"
    }
   ],
   "source": [
    "matrix = mac.get_matrix()\n",
    "matrix"
   ]
  },
  {
   "cell_type": "code",
   "execution_count": 46,
   "id": "5815dd0a-b6da-4e66-a45b-c4c72c43f81c",
   "metadata": {},
   "outputs": [
    {
     "data": {
      "text/latex": [
       "$\\displaystyle \\left[\\begin{matrix}a_{1}\\end{matrix}\\right]$"
      ],
      "text/plain": [
       "Matrix([[a_1]])"
      ]
     },
     "execution_count": 46,
     "metadata": {},
     "output_type": "execute_result"
    }
   ],
   "source": [
    "submatrix = mac.get_submatrix(matrix)\n",
    "submatrix"
   ]
  },
  {
   "cell_type": "code",
   "execution_count": 47,
   "id": "5fcae840-f74b-4546-9450-7ec65fb9a137",
   "metadata": {},
   "outputs": [
    {
     "data": {
      "text/latex": [
       "$\\displaystyle a_{1}^{3} b_{2} u_{3}^{2} + a_{1}^{3} c_{2} u_{2}^{2} - 2 a_{1}^{2} b_{1} c_{2} u_{1} u_{2} - 2 a_{1}^{2} b_{2} c_{1} u_{1} u_{3} + a_{1} a_{2} b_{1}^{2} u_{3}^{2} - 2 a_{1} a_{2} b_{1} c_{1} u_{2} u_{3} + a_{1} a_{2} c_{1}^{2} u_{2}^{2} + a_{1} b_{1}^{2} c_{2} u_{1}^{2} + a_{1} b_{2} c_{1}^{2} u_{1}^{2}$"
      ],
      "text/plain": [
       "a_1**3*b_2*u_3**2 + a_1**3*c_2*u_2**2 - 2*a_1**2*b_1*c_2*u_1*u_2 - 2*a_1**2*b_2*c_1*u_1*u_3 + a_1*a_2*b_1**2*u_3**2 - 2*a_1*a_2*b_1*c_1*u_2*u_3 + a_1*a_2*c_1**2*u_2**2 + a_1*b_1**2*c_2*u_1**2 + a_1*b_2*c_1**2*u_1**2"
      ]
     },
     "execution_count": 47,
     "metadata": {},
     "output_type": "execute_result"
    }
   ],
   "source": [
    "matrix.det()"
   ]
  },
  {
   "cell_type": "code",
   "execution_count": 48,
   "id": "11349bc9-b63c-42ff-9042-bf843ad4b85e",
   "metadata": {},
   "outputs": [
    {
     "data": {
      "text/latex": [
       "$\\displaystyle \\frac{a_{1}^{3} b_{2} u_{3}^{2} + a_{1}^{3} c_{2} u_{2}^{2} - 2 a_{1}^{2} b_{1} c_{2} u_{1} u_{2} - 2 a_{1}^{2} b_{2} c_{1} u_{1} u_{3} + a_{1} a_{2} b_{1}^{2} u_{3}^{2} - 2 a_{1} a_{2} b_{1} c_{1} u_{2} u_{3} + a_{1} a_{2} c_{1}^{2} u_{2}^{2} + a_{1} b_{1}^{2} c_{2} u_{1}^{2} + a_{1} b_{2} c_{1}^{2} u_{1}^{2}}{a_{1}}$"
      ],
      "text/plain": [
       "(a_1**3*b_2*u_3**2 + a_1**3*c_2*u_2**2 - 2*a_1**2*b_1*c_2*u_1*u_2 - 2*a_1**2*b_2*c_1*u_1*u_3 + a_1*a_2*b_1**2*u_3**2 - 2*a_1*a_2*b_1*c_1*u_2*u_3 + a_1*a_2*c_1**2*u_2**2 + a_1*b_1**2*c_2*u_1**2 + a_1*b_2*c_1**2*u_1**2)/a_1"
      ]
     },
     "execution_count": 48,
     "metadata": {},
     "output_type": "execute_result"
    }
   ],
   "source": [
    "matrix.det() / submatrix.det()"
   ]
  },
  {
   "cell_type": "code",
   "execution_count": 56,
   "id": "5713cdad-ab02-458a-896f-ec1c4615a620",
   "metadata": {},
   "outputs": [],
   "source": [
    "expr_mat = matrix.subs([(a_1, -3), (b_1, 1), (c_1, 5), (a_2, 1), (b_2, 1), (c_2, -5)])\n",
    "expr_submat = submatrix.subs([(a_1, -3), (b_1, 1), (c_1, 5), (a_2, 1), (b_2, 1), (c_2, -5)])"
   ]
  },
  {
   "cell_type": "code",
   "execution_count": 57,
   "id": "44969d39-87e6-4e09-b850-9cf33f61dee9",
   "metadata": {},
   "outputs": [
    {
     "data": {
      "text/latex": [
       "$\\displaystyle \\left[\\begin{matrix}-3\\end{matrix}\\right]$"
      ],
      "text/plain": [
       "Matrix([[-3]])"
      ]
     },
     "execution_count": 57,
     "metadata": {},
     "output_type": "execute_result"
    }
   ],
   "source": [
    "expr_submat"
   ]
  },
  {
   "cell_type": "code",
   "execution_count": 58,
   "id": "bab0abbb-5516-4b24-9b06-38d59c651dac",
   "metadata": {},
   "outputs": [
    {
     "data": {
      "text/latex": [
       "$\\displaystyle 20 u_{1}^{2} - 30 u_{1} u_{2} + 30 u_{1} u_{3} - 20 u_{2}^{2} - 10 u_{2} u_{3} + 10 u_{3}^{2}$"
      ],
      "text/plain": [
       "20*u_1**2 - 30*u_1*u_2 + 30*u_1*u_3 - 20*u_2**2 - 10*u_2*u_3 + 10*u_3**2"
      ]
     },
     "execution_count": 58,
     "metadata": {},
     "output_type": "execute_result"
    }
   ],
   "source": [
    "expr_mat.det() / expr_submat.det()"
   ]
  },
  {
   "cell_type": "code",
   "execution_count": 60,
   "id": "45f149e6-c3f3-46d4-b089-f64440cd6c09",
   "metadata": {},
   "outputs": [
    {
     "data": {
      "text/latex": [
       "$\\displaystyle 10 \\left(u_{1} - 2 u_{2} + u_{3}\\right) \\left(2 u_{1} + u_{2} + u_{3}\\right)$"
      ],
      "text/plain": [
       "10*(u_1 - 2*u_2 + u_3)*(2*u_1 + u_2 + u_3)"
      ]
     },
     "execution_count": 60,
     "metadata": {},
     "output_type": "execute_result"
    }
   ],
   "source": [
    "import sympy\n",
    "sympy.factor(expr_mat.det() / expr_submat.det())"
   ]
  },
  {
   "cell_type": "code",
   "execution_count": null,
   "id": "9c813e8a-7be7-4fe7-b69b-51adb38ffdda",
   "metadata": {},
   "outputs": [],
   "source": [
    "\n"
   ]
  }
 ],
 "metadata": {
  "kernelspec": {
   "display_name": "Python 3 (ipykernel)",
   "language": "python",
   "name": "python3"
  },
  "language_info": {
   "codemirror_mode": {
    "name": "ipython",
    "version": 3
   },
   "file_extension": ".py",
   "mimetype": "text/x-python",
   "name": "python",
   "nbconvert_exporter": "python",
   "pygments_lexer": "ipython3",
   "version": "3.8.10"
  }
 },
 "nbformat": 4,
 "nbformat_minor": 5
}
